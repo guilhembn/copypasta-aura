{
 "cells": [
  {
   "cell_type": "code",
   "execution_count": 2,
   "id": "framed-premises",
   "metadata": {},
   "outputs": [
    {
     "name": "stdout",
     "output_type": "stream",
     "text": [
      "Evenement ?cadeau de David\n",
      "Options ? (séparées par des ',')skateboard, jupe, dogecoin\n",
      "Option retenueskateboard\n",
      "Budget estimé ?60 euros\n",
      "Nouveau besoin ?Thibault parle\n",
      "Pourquoi ?parce que\n",
      "Au moment du cadeau de David il y a quelques mois, nous avons évalué les différentes options, et à l'époque le choix avait été de skateboard. Le budget avait été estimé (60 euros), présenté par Marc & David à la direction, et la décision avait été prise de temporiser l'investissement pour des raisons financières, puisque des solutions de repli existaient: dans le pire des cas, skateboard, jupe, dogecoin par exemple. \n",
      "Quelques temps plus tard, le besoin d'un Thibault parle est apparu, pour parce que. Seb Sannac a donc pris l'action au travers de parce que de monter une skateboard dédiée à cela. Elle est opérationnelle depuis peu, nous avons validé ce matin entre managers + Seb Sannac que nous allions pouvoir migrer tous les parce que dessus.\n",
      "Donc non, \"on\" n'a pas rien fait. Merci d'éviter ce genre de message qui peut être assez mal perçu par les \"on\" qui font des choses, même si elles n'ont pas toujours vocation à être diffusées à tout le monde.\n"
     ]
    }
   ],
   "source": [
    "event = input(\"Evenement ?\")\n",
    "options = input(\"Options ? (séparées par des ',')\").split(\",\")\n",
    "chosen_option = input(\"Option retenue\")\n",
    "estim_cost = input(\"Budget estimé ?\")\n",
    "new_need = input(\"Nouveau problème ?\")\n",
    "why = input(\"Cause du problème ?\")\n",
    "\n",
    "\n",
    "template = f\"\"\"Au moment du {event} il y a quelques mois, nous avons évalué les différentes options, et à l'époque le choix avait été de {chosen_option}. Le budget avait été estimé ({estim_cost}), présenté par Marc & David à la direction, et la décision avait été prise de temporiser l'investissement pour des raisons financières, puisque des solutions de repli existaient: dans le pire des cas, {\",\".join(options)} par exemple. \n",
    "Quelques temps plus tard, le besoin d'un {new_need} est apparu, pour {why}. Seb Sannac a donc pris l'action au travers de {why} de monter une {chosen_option} dédiée à cela. Elle est opérationnelle depuis peu, nous avons validé ce matin entre managers + Seb Sannac que nous allions pouvoir migrer tous les {why} dessus.\n",
    "Donc non, \"on\" n'a pas rien fait. Merci d'éviter ce genre de message qui peut être assez mal perçu par les \"on\" qui font des choses, même si elles n'ont pas toujours vocation à être diffusées à tout le monde.\"\"\"\n",
    "\n",
    "print(template)"
   ]
  }
 ],
 "metadata": {
  "kernelspec": {
   "display_name": "Python 3 (ipykernel)",
   "language": "python",
   "name": "python3"
  },
  "language_info": {
   "codemirror_mode": {
    "name": "ipython",
    "version": 3
   },
   "file_extension": ".py",
   "mimetype": "text/x-python",
   "name": "python",
   "nbconvert_exporter": "python",
   "pygments_lexer": "ipython3",
   "version": "3.9.2"
  }
 },
 "nbformat": 4,
 "nbformat_minor": 5
}
